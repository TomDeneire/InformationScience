{
 "cells": [
  {
   "cell_type": "markdown",
   "metadata": {},
   "source": [
    "# Chapter 5: Querying Information\n",
    "\n",
    "![](images/algorithms.png)\n",
    "\n",
    "Credit: [xkcd](https://xkcd.com/1831/)"
   ]
  },
  {
   "attachments": {},
   "cell_type": "markdown",
   "metadata": {},
   "source": [
    "> *TL;DR: Querying data is at the heart of information retrieval, whether we query for data or for documents that contain data.*"
   ]
  },
  {
   "cell_type": "markdown",
   "metadata": {},
   "source": [
    "## Query languages\n",
    "\n",
    "Database operations can be summarized with the acronym `CRUD`: create, read, update and delete. \n",
    "\n",
    "From an information standpoint, the main focus is **reading** from the database. Most often though, we do not read directly, as this is not possible (not all databases can be browsed), or practical (we get too much information). Instead, reading databases is usually done through **querying**, for which we use [query languages](https://en.wikipedia.org/wiki/Query_language). \n",
    "\n",
    "Actually, query languages surpass databases. Formally, query languages can be classified as **database query languages** versus **information retrieval query languages**. The difference is that a database query language attempts to give factual answers to factual questions, while an information retrieval query language attempts to find documents containing information that is relevant to an area of inquiry. \n",
    "\n",
    "For the former we will discuss SQL, for the latter CQL."
   ]
  },
  {
   "cell_type": "markdown",
   "metadata": {},
   "source": [
    "### Database querying: SQL/SQLite\n",
    "\n",
    "SQL is a technology that is probably new to most of you. Unlike RDF, which some libraries seem hesitant to adopt, SQL is ubiquitous, including outside of libraries. Moreover, SQL has for instance heavily influenced the aforementioned CQL, and also [SPARQL](https://en.wikipedia.org/wiki/SPARQL), the query language for RDF. So knowing SQL will open many doors.\n",
    "\n",
    "SQL is the query language for RDBMS, which are most often implemented in a *client-server* database engine. So for you to use SQL you would need a connection to a SQL database **server,** i.e. something like [MySQL](https://en.wikipedia.org/wiki/MySQL) or [PostgreSQL](https://en.wikipedia.org/wiki/PostgreSQL), which you can see, for instance, running on my local machine like so:\n",
    "\n",
    "```\n",
    "tdeneire@XPS-13-9370:~/tmp$ ps -ef | grep postgres\n",
    "\n",
    "postgres    1258       1  0 07:01 ?        00:00:00 /usr/lib/postgresql/12/bin/postgres -D /var/lib/postgresql/12/main -c config_file=/etc/postgresql/12/main/postgresql.conf\n",
    "postgres    1286    1258  0 07:01 ?        00:00:00 postgres: 12/main: checkpointer   \n",
    "postgres    1287    1258  0 07:01 ?        00:00:00 postgres: 12/main: background writer   \n",
    "postgres    1288    1258  0 07:01 ?        00:00:00 postgres: 12/main: walwriter   \n",
    "postgres    1289    1258  0 07:01 ?        00:00:00 postgres: 12/main: autovacuum launcher   \n",
    "postgres    1290    1258  0 07:01 ?        00:00:00 postgres: 12/main: stats collector   \n",
    "postgres    1291    1258  0 07:01 ?        00:00:00 postgres: 12/main: logical replication launcher\n",
    "```\n",
    "\n",
    "However, there is also a very good **standalone** alternative, called [SQLite](https://en.wikipedia.org/wiki/SQLite). \n",
    "\n",
    "Simply said SQLite is just a single file, but you can query it just like a SQL database server. Moreover, you can access SQLite databases from many programming languages (C, Python, PHP, Go, ...), but you can also handle them with GUIs like [DB Browser](https://sqlitebrowser.org/), which makes them also very suitable for non-technical use.\n",
    "\n",
    "If you want to know more about SQLite, I wrote this [blog](https://tomdeneire.medium.com/the-most-widely-used-database-in-the-world-d0cd87f7c482) about why it is the most widely-used database in the world...\n",
    "\n",
    "#### SQL queries\n",
    "\n",
    "There are some minute differences between SQL syntax and the SQLite dialect, but these so small they can be neglected.\n",
    "\n",
    "SQL queries always take the same basic form: we **select** data from a table (mandatory), **where** certain conditions apply (optional). We can use **join** (in different forms) to add one or more tables to the selected table:\n",
    "\n",
    "![](images/sql.png)\n",
    "\n",
    "This [SQL cheat sheet](https://github.com/ABZ-Aaron/CheatSheets/blob/main/SQL-V2-Light.pdf) also offers a great summary.\n",
    "\n",
    "Let's look at a concrete example."
   ]
  },
  {
   "cell_type": "markdown",
   "metadata": {},
   "source": [
    "#### Python sqlite3\n",
    "\n",
    "Python's standard library contains the module [sqlite3](https://docs.python.org/3/library/sqlite3.html) which offers an API for a SQLite database. (We will discuss API's in general later in this chapter).\n",
    "\n",
    "For example, let's launch some SQL queries on a SQLite database of [STCV](https://vlaamse-erfgoedbibliotheken.be/en/dossier/short-title-catalogue-flanders-stcv/stcv), which is the Short Title Catalogue Flanders, an online database with extensive bibliographical descriptions of editions printed in Flanders before 1801. This database is available as part of the [Anet Open Data](https://www.uantwerpen.be/nl/projecten/anet/open-data/). A version of it is available in this repo under `data`.\n"
   ]
  },
  {
   "cell_type": "code",
   "execution_count": 1,
   "metadata": {},
   "outputs": [
    {
     "name": "stdout",
     "output_type": "stream",
     "text": [
      "('Ægidius de Lallaing', 'Den troost der scrvpvlevse; dat is: Gheestelyck medecijn-boecksken, in-houdende vele troostelijcke remedien teghen de [...] scrupuleusheyt', '1647')\n",
      "('Ægidius de Coninck', 'Commentariorvm ac dispvtationvm in Vniuersam doctrinam D. Thomæ De sacramentis et censvris tomi dvo', '1624')\n",
      "('Ægidius de Coninck', 'Responsio ad dissertationem impvgnantem absolutionem moribundi sensibus destituti', '1625')\n",
      "('Ægidius de Coninck', 'Commentariorvm ac dispvtationvm in vniuersam doctrinam D. Thomæ de sacramentis et censvris tomi dvo', '1619')\n",
      "('Ægidius de Coninck', 'Commentariorvm ac dispvtationvm in vniuersam doctrinam D. Thomæ de sacramentis et censvris tomi dvo', '1616')\n",
      "('Ægidius de Coninck', 'De moralitate, natvra, et effectibvs actvvm svpernatvralivm in genere. Et fide, spe, ac charitate, speciatim. Libri quatuor', '1623')\n",
      "('Ægidius de Coninck', 'De actibvs svpernatvralibvs in genere', '1623')\n",
      "('Ægidius de Coninck', 'Dispvtationes theologicæ de sanctissima trinitate et divini verbi incarnatione', '1645')\n",
      "('Ægidius Perrinus', 'Sextvs decretalivm liber', '1573')\n",
      "('Ægidius Perrinus', 'Institvtionvm, sive Primorum totius iurisprudentiæ elementorum libri qvatvor', '1575')\n"
     ]
    }
   ],
   "source": [
    "import os\n",
    "import sqlite3\n",
    "\n",
    "# To use the module, you must first create a Connection object that represents the database\n",
    "conn = sqlite3.connect(os.path.join('data', 'stcv.sqlite'))\n",
    "# Once you have a Connection, you create a Cursor object\n",
    "c = conn.cursor()\n",
    "# To perform SQL commands you call the Cursor object's .execute() method\n",
    "query = \"\"\"\n",
    "        SELECT DISTINCT \n",
    "            author.author_zvwr, \n",
    "            title.title_ti, \n",
    "            impressum.impressum_ju1sv FROM author\n",
    "        JOIN \n",
    "            title ON author.cloi = title.cloi\n",
    "        JOIN \n",
    "            impressum ON title.cloi = impressum.cloi\n",
    "        ORDER BY \n",
    "            author.author_zvwr DESC\n",
    "        \"\"\"\n",
    "c.execute(query)\n",
    "# Call fetchall() to get a list of the matching rows\n",
    "data = [row for row in c.fetchall()]\n",
    "# Print sample of result\n",
    "for row in data[50:60]:\n",
    "    print(row)\n",
    "# Close the connection when you're done\n",
    "conn.close()"
   ]
  },
  {
   "cell_type": "markdown",
   "metadata": {},
   "source": [
    "Becoming fully versed in SQL is beyond the scope of this course. In this context, it is enough to understand the capabilities of SQL and the basic anatomy of a SQL query. This will help you to better understand RDBM systems as a whole or learn new querying technologies, such as the aforementioned SPARQL, which is effectively a variant of SQL:\n",
    "\n",
    "Consider this example:\n",
    "\n",
    "```sql\n",
    "SELECT DISTINCT \n",
    "    ?resource, ?name, ?birthDate, ?deathDate\n",
    "WHERE {\n",
    "    ?resource rdfs:label \"Hugo Claus\"@en; \n",
    "              rdfs:label ?name; \n",
    "              rdf:type dbo:Person\n",
    "    OPTIONAL {?resource dbp:birthDate ?birthDate}.\n",
    "    OPTIONAL {?resource dbp:deathDate ?deathDate}\n",
    "    FILTER(?name = \"Hugo Claus\"@en)\n",
    "}\n",
    "```\n",
    "\n",
    "Execute this query against the [DBPedia SPARQL endpoint](https://dbpedia.org/sparql?default-graph-uri=http%3A%2F%2Fdbpedia.org&query=++++++++++++SELECT+DISTINCT+%0D%0A%3Fresource%2C+%3Fname%2C+%3FbirthDate%2C+%3FdeathDate%0D%0A++++++++++++WHERE+%7B%3Fresource+rdfs%3Alabel+%22Hugo+Claus%22%40en%3B+rdfs%3Alabel+%3Fname%3B+rdf%3Atype+dbo%3APerson%0D%0A++++++++++++OPTIONAL+%7B%3Fresource+dbp%3AbirthDate+%3FbirthDate%7D.%0D%0A++++++++++++OPTIONAL+%7B%3Fresource+dbp%3AdeathDate+%3FdeathDate%7D%0D%0A++++++++++++FILTER%28%3Fname+%3D+%22Hugo+Claus%22%40en%29%7D%0D%0A&format=application%2Fsparql-results%2Bjson&timeout=10000&signal_void=on&signal_unconnected=on)."
   ]
  },
  {
   "cell_type": "markdown",
   "metadata": {},
   "source": [
    "### Information retrieval querying: CQL/SRU\n",
    "\n",
    "Contextual query language or **CQL** is an example of an information retrieval query language. According to [Wikipedia:Contextual_Query_Language](https://en.wikipedia.org/wiki/Contextual_Query_Language)\n",
    "\n",
    ">Contextual Query Language (CQL), previously known as Common Query Language, is a formal language for representing queries to information retrieval systems such as search engines, bibliographic catalogs and museum collection information. (...) its design objective is that queries be human readable and writable, and that the language be intuitive while maintaining the expressiveness of more complex query languages. It is being developed and maintained by the Z39.50 Maintenance Agency, part of the Library of Congress.\n",
    "\n",
    "Querying with CQL operates via **SRU** - Search/Retrieve via URL, which is an XML-based protocol for search queries.\n",
    "\n",
    "You can find the full specifications for [CQL](https://www.loc.gov/standards/sru/cql/spec.html) and [SRU](http://www.loc.gov/standards/sru/index.html) at the Library of Congress website, what is offered here is only the basics.\n",
    "\n",
    "#### SRU\n",
    "\n",
    "SRU (Search/Retrieve via URL) is a standard search protocol for Internet search queries. In the context of libraries, SRU is mainly used for search and retrieval of bibliographic records from the catalog.\n",
    "\n",
    "A valid SRU request always contains a reference to the SRU \"version\" and an \"operation\", optionally enriched with \"parameters\".\n",
    "\n",
    "The **explain** operation allows a client to retrieve a description of the facilities available at an SRU server. It can then be used by the client to self-configure and provide an appropriate interface to the user. The response includes list of all the searchable **indexes**.\n",
    "\n",
    "e.g. [https://data.cerl.org/thesaurus/_sru?version=1.2&operation=explain](https://data.cerl.org/thesaurus/_sru?version=1.2&operation=explain)\n",
    "\n",
    "The **searchRetrieve** operation is the main operation of SRU. It allows the client to submit a search and retrieve request for matching records from the server. This operation needs to be combined with the **query** parameter\n",
    "\n",
    "e.g. [https://data.cerl.org/thesaurus/_sru?version=1.2&operation=searchRetrieve&query=erasmus](https://data.cerl.org/thesaurus/_sru?version=1.2&operation=searchRetrieve&query=erasmus)\n",
    "\n",
    "Note the tag `<srw:numberOfRecords>`. Most SRU servers will not give you the entire response in one go. You can use the parameters `&startRecord=` and `&maximumRecords=` to harvest the whole result in chunks. For instance:\n",
    "\n",
    "[http://sru.gbv.de/hpb?version=2.0&operation=searchRetrieve&query=lipsius](http://sru.gbv.de/hpb?version=2.0&operation=searchRetrieve&query=lipsius)\n",
    "\n",
    "->\n",
    "\n",
    "[http://sru.gbv.de/hpb?version=2.0&operation=searchRetrieve&query=lipsius&startRecord=1&maximumRecords=10](http://sru.gbv.de/hpb?version=2.0&operation=searchRetrieve&query=lipsius&&startRecord=1&maximumRecords=10)\n",
    "\n",
    "\n",
    "#### CQL\n",
    "\n",
    "A SRU search statement, i.e. the `&query=` part, is expressed in [CQL syntax](http://zing.z3950.org/cql/intro.html).\n",
    "\n",
    "The simplest CQL queries are unqualified **single terms**:\n",
    "\n",
    "e.g. [https://data.cerl.org/thesaurus/_sru?version=1.2&operation=searchRetrieve&query=lipsius&startRecord=1](https://data.cerl.org/thesaurus/_sru?version=1.2&operation=searchRetrieve&query=lipsius&startRecord=1)\n",
    "\n",
    "Queries may be joined together using the three **Boolean operators**, `and`, `or` and `not`. We use spaces, or rather their URL encoded version `%20` to separate CQL words:\n",
    "\n",
    "e.g. [https://data.cerl.org/thesaurus/_sru?version=1.2&operation=searchRetrieve&query=lipsius%20or%20erasmus&startRecord=1](https://data.cerl.org/thesaurus/_sru?version=1.2&operation=searchRetrieve&query=lipsius%20or%20erasmus&startRecord=1)\n",
    "\n",
    "The queries discussed so far are targeted at whole records. Sometimes we need to be more specific, and limit a search to a particular field of the records we're interested in. In CQL, we do this using **indexes**. An index is generally attached to its search-term with an equals sign (=). Indexes indicate what part of the records is to be searched - in implementation terms, they frequently specify which index is to be inspected in the database. For information about which specific indexes you can use, use the `explain` operation:\n",
    "\n",
    "e.g. [https://data.cerl.org/thesaurus/_sru?version=1.2&operation=searchRetrieve&query=ct.imprintname=moretus&startRecord=1](https://data.cerl.org/thesaurus/_sru?version=1.2&operation=searchRetrieve&query=ct.imprintname=moretus&startRecord=1)\n",
    "\n",
    "SRU also allows other **relations** than equality (`=`) which we have just used (e.g. `publicationYear < 1980`) and **pattern matching**:\n",
    "\n",
    "e.g. [https://data.cerl.org/thesaurus/_sru?version=1.2&operation=searchRetrieve&query=m*retus&startRecord=1](https://data.cerl.org/thesaurus/_sru?version=1.2&operation=searchRetrieve&query=m*retus&startRecord=1)"
   ]
  },
  {
   "cell_type": "markdown",
   "metadata": {},
   "source": [
    "\n",
    "#### Example: CERL thesaurus\n",
    "\n",
    "Let's have a more detailed look at one of the examples used frequently in the above. This source that supports SRU/CQL is the [CERL (Consortium of European Research Libraries)](https://cerl.org/), which is responsible for the [CERL Thesaurus](https://data.cerl.org/thesaurus/_search), containing forms of imprint places, imprint names, personal names and corporate names as found in material printed before the middle of the nineteenth century - including variant spellings, forms in Latin and other languages, and fictitious names.\n",
    "\n",
    "Below is an example of how to query this source with SRU/CQL from Python:"
   ]
  },
  {
   "cell_type": "code",
   "execution_count": null,
   "metadata": {},
   "outputs": [
    {
     "name": "stdout",
     "output_type": "stream",
     "text": [
      "b'<?xml version=\"1.0\"?>\\r\\n<srw:searchRetrieveResponse xmlns:srw=\"http://www.loc.gov/zing/srw/\" xmlns:diag=\"http://www.loc.gov/zing/srw/diagnostic/\">\\r\\n<srw:version>1.2</srw:version>\\r\\n<srw:numberOfRecords>51</srw:numberOfRecords>\\r\\n<srw:records>\\r\\n\\r\\n    <srw:record>\\r\\n        <srw:recordSchema>http://sru.cerl.org/schema/ctas/1.1/</srw:recordSchema>\\r\\n        <srw:recordPacking>xml</srw:recordPacking>\\r\\n        <srw:recordIdentifier>cnp00605296</srw:recordIdentifier>\\r\\n        <srw:recordData>\\r\\n        \\r\\n        \\r\\n        <record id=\"cnp00605296\" type=\"personalName\" xmlns=\"http://sru.cerl.org/ctas/dtd/1.1\"><info><display>Lipsius, Jacob</display></info><nameForms><headingForm name=\"full\">Jacob Lipsius</headingForm><headingForm name=\"inverted\">Lipsius, Jacob</headingForm><variantForm name=\"full\">Jacobus Lipsius</variantForm><variantForm name=\"inverted\">Lipsius, Jacobus</variantForm><variantForm name=\"full\">Jakob Lipsius</variantForm><variantForm name=\"inverted\">Lipsius, Jakob</variantForm></nameForm'...\n"
     ]
    }
   ],
   "source": [
    "import urllib.parse\n",
    "import urllib.request\n",
    "import urllib.error\n",
    "\n",
    "CERL_SRU_PREFIX = \"https://data.cerl.org/thesaurus/_sru?version=1.2&operation=searchRetrieve&query=\"\n",
    "\n",
    "def clean(string: str) -> str:\n",
    "    \"\"\"\n",
    "    Clean input string and URL encode\n",
    "    \"\"\"\n",
    "    string = string.strip()\n",
    "    string = string.casefold()\n",
    "    string = urllib.parse.quote(string)\n",
    "    return string\n",
    "\n",
    "\n",
    "def query_CERL(search: str) -> bytes:\n",
    "    \"\"\"\n",
    "    Query CERL thesaurus, return response or exit with errorcode\n",
    "    \"\"\"\n",
    "    cql_query = clean(search)\n",
    "    url = CERL_SRU_PREFIX + cql_query\n",
    "    try:\n",
    "        with urllib.request.urlopen(url) as query:\n",
    "            return query.read()\n",
    "    except urllib.error.HTTPError as HTTPerr:\n",
    "        exit(HTTPerr.code)\n",
    "    except urllib.error.URLError as URLerr:\n",
    "        exit(str(URLerr))\n",
    "\n",
    "user_input = input()\n",
    "print(str(query_CERL(user_input)[0:1000]) + \"...\")"
   ]
  },
  {
   "cell_type": "markdown",
   "metadata": {},
   "source": [
    "## APIs\n",
    "\n",
    "An SRU server is an example of a web [API](https://en.wikipedia.org/wiki/API), or Application Programming Interface.\n",
    "\n",
    "Non-technical users mostly interact with data through a GUI or Graphical User Interface, either locally (e.g. you use DBbrowser to look at an SQLite database) or on the web (e.g. you use Wikidata's web page). However, when we try to interact with this data from a machine-standpoint, i.e. in programming, this GUI is not suitable. We need an interface that is geared towards computers. So we use a local API (e.g. Python's `sqlite3` module) or web API (e.g. [Wikidata's Query Service](https://query.wikidata.org/)) to get this data in a way that can be easily handled by computers.\n",
    "\n",
    "In this way, an API is an intermediary structure, which has a lot of benefits. Wouldn't it be nicer to have direct access to a certain database? In a way, yes, but this would also cause problems. There are many, many different database architectures, but [API architectures](https://levelup.gitconnected.com/comparing-api-architectural-styles-soap-vs-rest-vs-graphql-vs-rpc-84a3720adefa) are generally quite predictable. They are often based on well-known technologies like JSON or XML, so you don't have to learn a new query language. Moreover, suppose Wikidata changes their database. All of your code that uses the database would need to be rewritten. By using the API intermediary structure Wikidata can change the underlying database, but make sure their API still functions in the same way as before. \n",
    "\n",
    "There are lots of free web APIs out there. The [NASA API](https://api.nasa.gov/), for instance, is quite incredible. For book information there is [OpenLibrary](https://openlibrary.org/dev/docs/api/books). Or this [Evil Insult Generator](https://evilinsult.com/generate_insult.php?lang=en&type=json), if you want to have some fun! You can find an extensive list of free APIs [here](https://github.com/public-apis/public-apis)."
   ]
  },
  {
   "cell_type": "markdown",
   "metadata": {},
   "source": [
    "## Exercise: Europeana Entities API\n",
    "\n",
    "For this exercise you will be using the JSON data made available through the [Europeana Entities API](https://pro.europeana.eu/page/entity), which allows you to search on or retrieve information from named entities. These named entities (such as persons, topics and places) are part of the Europeana Entity Collection, a collection of entities in the context of Europeana harvested from and linked to controlled vocabularies, such as [GeoNames](https://www.geonames.org/), [DBPedia](https://www.dbpedia.org/about/) and [Wikidata](https://www.wikidata.org/wiki/Wikidata:Main_Page). \n",
    "\n",
    "It is advisable to read the API's [documentation](https://pro.europeana.eu/page/entity) first."
   ]
  },
  {
   "cell_type": "markdown",
   "metadata": {},
   "source": [
    "### Task\n",
    "\n",
    "The task is simple. Write a Python script that prompts for user input of a named entity, query the API for that entity, parse the results and print them on standard output.\n",
    "\n",
    "#### Some tips:\n",
    "\n",
    "- You can use the key `wskey=apidemo` for your API request.\n",
    "- A good Python library to access URLs is `urllib`, an alternative (which is not in the standard library) is `requests`.\n",
    "- Think about what we have seen already about standardizing/normalizing search strings, but take this to the next level.\n",
    "- Try to anticipate what can go wrong so the program doesn't crash in unexpected situations.\n",
    "- Test your application with the following search strings: `Erasmus`, `Justus Lipsius` and `Django Spirelli`."
   ]
  }
 ],
 "metadata": {
  "kernelspec": {
   "display_name": "Python 3.8.10 64-bit",
   "language": "python",
   "name": "python3"
  },
  "language_info": {
   "codemirror_mode": {
    "name": "ipython",
    "version": 3
   },
   "file_extension": ".py",
   "mimetype": "text/x-python",
   "name": "python",
   "nbconvert_exporter": "python",
   "pygments_lexer": "ipython3",
   "version": "3.8.10 (default, Nov 14 2022, 12:59:47) \n[GCC 9.4.0]"
  },
  "vscode": {
   "interpreter": {
    "hash": "31f2aee4e71d21fbe5cf8b01ff0e069b9275f58929596ceb00d14d90e3e16cd6"
   }
  }
 },
 "nbformat": 4,
 "nbformat_minor": 2
}