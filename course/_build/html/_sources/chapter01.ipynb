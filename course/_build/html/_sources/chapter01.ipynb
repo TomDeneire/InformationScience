{
 "cells": [
  {
   "cell_type": "markdown",
   "metadata": {},
   "source": [
    "# Chapter 1: Welcome"
   ]
  },
  {
   "cell_type": "markdown",
   "metadata": {},
   "source": [
    "![](images/welcome.png)\n",
    "\n",
    "Credit: [xkcd](https://xkcd.com/722/)"
   ]
  },
  {
   "cell_type": "markdown",
   "metadata": {},
   "source": [
    "> *TL;DR: This is a course on Information Science made by a classicist turned software engineer*"
   ]
  },
  {
   "cell_type": "markdown",
   "metadata": {},
   "source": [
    "## Welcome\n",
    "\n",
    "Welcome to the course \"Information Science\" for the University of Antwerp [Master of Digital Text Analysis](https://www.uantwerpen.be/en/study/programmes/all-programmes/digital-text-analysis/)!"
   ]
  },
  {
   "cell_type": "markdown",
   "metadata": {},
   "source": [
    "## Who am I and why does that matter?\n",
    "\n",
    "### Who am I?\n",
    "\n",
    "My name is [Tom Deneire](https://tomdeneire.github.io/) and I work as a **software engineer**.\n",
    "\n",
    "However, my carreer did not start in IT. On the contrary, I studied Classics (MA 2003, PhD 2009) and was active in humanities research and education for quite some time.\n",
    "\n",
    "From 2009-2013 I worked in **academia** as a postdoctoral researcher (Neo-Latin Studies) and a visiting professor (Latin rhetoric and stylistics), focussing mainly on the interplay of Neo-Latin and the vernacular, literary theory and dabbling in (then emerging) Digital Humanities (see e.g. [Deneire 2018](https://hdl.handle.net/10067/1535070151162165141)).\n",
    "\n",
    "In 2013 I moved to the **library world** (University Library of Antwerp) as Curator of the Special Collections, where I became increasingly interested in library metadata and data science. I learned the basics of XML, SQL and Python, and started using these tools to research and aggregate library metadata.\n",
    "\n",
    "In 2018 this lead to a switch from the Special Collections to the library's **software department** [Anet](https://www.uantwerpen.be/nl/projecten/anet/), where I currently work as a full-stack engineer on a product called [Brocade Library Services](https://en.wikipedia.org/wiki/Brocade_Library_Services).  My current project is a complete rewrite and integration of the library's two modules for authority control. \n",
    "\n",
    "My technology stack mainly includes Python, Go and especially [MUMPS](https://en.wikipedia.org/wiki/MUMPS), the language for our database engine (GT.M, provided by [YottaDB](https://yottadb.com/)). However, I also use SQL, HTML/CSS, Javascript and PHP. My OS of choice is Linux (i.c. the [Linux Mint](https://linuxmint.com/) distro) and I use [Neovim](https://neovim.io/) for an editor.\n",
    "\n",
    "### Why does that matter?\n",
    "\n",
    "This should make clear that I am not an academic expert in Information Science, nor have I been a professional developer for a long time. Indeed, at first I was not sure if I am the best person to teach this course! So it goes without saying that I will certainly not have all the answers.\n",
    "\n",
    "On the other hand, my profile is very kindred to that of my **intended audience**, which I think of as humanities majors looking to acquire digital skills. I hope this common perspective will enable me to teach what such students need most from a vast field such as Information Science."
   ]
  },
  {
   "cell_type": "markdown",
   "metadata": {},
   "source": [
    "## Contents and learning outcomes\n",
    "\n",
    "My specific profile also implies that this will not be a standard introduction to Information Science. If this is really what you are after, there is enough  literature out there to acquire this knowledge by yourself. \n",
    "\n",
    "Instead what is offered here is a very **hands-on introduction** into information science and the technologies used in the field. Think of this class as an internship with an information systems company, rather than an academic course. The aim of this course is to provide you with a minimum of theoretical knowledge and a maximum of practical experience.\n",
    "\n",
    "The course will discuss the following information science topics:\n",
    "\n",
    "1. Definition, history, ethics\n",
    "2. Encoding\n",
    "3. Databases\n",
    "4. Querying\n",
    "5. Metadata\n",
    "6. Indexing\n",
    "7. Searching\n",
    "8. Architecture\n",
    "\n",
    "In line with the hands-on nature of this course, most chapters will feature a **code exercise**, designed to offer a realistic example of a real-world implementation of the technology discussed in the chapter."
   ]
  },
  {
   "cell_type": "markdown",
   "metadata": {},
   "source": [
    "## Reading\n",
    "\n",
    "### Required\n",
    "\n",
    "Given the very applied nature of this course, I feel it is necessary to supplement it with a brief theoretical introduction to the topic of information. To meet that goal, this course requires reading chapters 1-7 of this highly readable book:\n",
    "\n",
    "*Foundations of Information*, by Amy J. Ko (2021), available as a free [e-book](https://faculty.washington.edu/ajko/books/foundations-of-information/) and [GitHub repository](https://github.com/amyjko/foundations-of-information) \n",
    "  \n",
    "\n",
    "### Optional\n",
    "\n",
    "If a subject of this course is of particular interest to you, you can find more information about the various topics in the following publications:\n",
    "\n",
    "- *Handbook of Information Science*, By Wolfgang G. Stock, Mechtild Stock, (Berlin: De Gruyter Saur, 2013), [ISBN 978-3110234992](https://isbnsearch.org/isbn/9783110234992), https://doi.org/10.1515/9783110235005\n",
    "\n",
    "- *The Myth and Magic of Library Systems*, By Keith J. Kelley, [ISBN 978-0081000762](https://isbnsearch.org/isbn/9780081000762)\n",
    "\n",
    "- *Modern Information Retrieval: The Concepts and Technology behind Search*, By Ricardo Baeza-Yates, Berthier Ribeiro-Neto, Second edition (Harlow e.a.: Addison-Wesley, 2011), [ISBN 978-0-321-41691-9](https://isbnsearch.org/isbn/9780321416919)\n",
    "\n",
    "- *Information Architecture*, 4th Edition, By Louis Rosenfeld, Peter Morville, Jorge Arango, [ISBN 978-1491911686](https://isbnsearch.org/isbn/9781491911686)\n",
    "\n",
    "- *A Librarian's Guide to Graphs, Data and the Semantic Web*, By James Powell, [ISBN 978-1843347538](https://isbnsearch.org/isbn/9781843347538)\n",
    "\n",
    "- *Apprenticeship Patterns*, By Dave Hoover, Adewale Oshineye, [ISBN 978-0596518387](https://isbnsearch.org/isbn/9780596518387)\n",
    "\n",
    "## Other resources\n",
    "\n",
    "While this course is designed for beginners, it may still be possible that you feel your knowledge about a certain topic is lacking, especially when it comes to certain technological concepts. If so, the Internet offers a vast array of resources designed to help your learning process.\n",
    "\n",
    "For me, one of the best resources for self-improvement is [Medium](https://medium.com/), an online publishing platform for blogs dealing with just about anything, but with a strong emphasis on software and technology. Medium lets you configure your interests so you get a personalized list of reading suggestions. Most articles on Medium are free and the site also allows you to read up to 3 premium articles for free every month. Personally, I find a paying membership more than worthwile.\n",
    "\n",
    "Other good, free resources include:\n",
    "\n",
    "- [Tutorialspoint](https://www.tutorialspoint.com/index.htm)\n",
    "- [w3schools](https://www.w3schools.com/)\n",
    "\n",
    "Finally, if you're looking for more hands-on introductions to topics similar to those treated in this course, you might want to have a look at [Library Carpentry](https://librarycarpentry.org/), a non-profit organization who offer free online [workshops](https://librarycarpentry.org/lessons/) teaching technical skills for people working in library- and information-related roles (UNIX shell, Git, Python, R, XML, ...)."
   ]
  },
  {
   "cell_type": "markdown",
   "metadata": {},
   "source": [
    "## Technical requirements\n",
    "\n",
    "This course is available as a series of Jupyter Notebooks and published on the [GitHub repository](https://github.com/TomDeneire/InformationScience) for this course. \n",
    "\n",
    "To view the content **without code execution**, you can:\n",
    "\n",
    "1. Read the notebooks as a Jupyter Book hosted on [GitHub Pages](https://tomdeneire.github.io/InformationScience)\n",
    "2. Read the notebooks in the [GitHub repository](https://github.com/TomDeneire/InformationScience/tree/main/course)\n",
    "\n",
    "To view the content **with code execution**, you can:\n",
    "\n",
    "1. Use an editor with a Jupyter Notebook extension, such as [VS Code](https://code.visualstudio.com/)\n",
    "2. Install [Jupyter](https://jupyter.org/install) (Lab or Notebook) locally and open the notebooks in your browser\n",
    "\n",
    "If you don't want to install Jupyter on your machine, you can open the notebooks with [Google Colab](https://colab.research.google.com/notebooks/), but executing the code isn't always guaranteed to work (because of missing third-party libraries and stack overflows in heavy data operations).\n",
    "\n",
    "The best way to obtain these course materials on your local machine is to:\n",
    "\n",
    "1. Install ``git`` on our local machine\n",
    "2. Get a GitHub account (if you don't already have one)\n",
    "3. Fork this repo to your own GitHub account\n",
    "4. Clone the repo to your local machine\n",
    "\n",
    "And of course if you find errors in the other course materials or want to propose changes or additions, I am very open to pull requests.\n",
    "\n",
    "### Git help!\n",
    "\n",
    "If you're unsure how to do all of this, this [GitHub guide](https://guides.github.com/activities/forking/) will help. \n",
    "\n",
    "Other interesting sources on Git are this [Medium article](https://link.medium.com/w1ShAzxQE9) and Atlassian's [tutorial](https://www.atlassian.com/git/tutorials/what-is-git). This [Medium article](https://link.medium.com/NdBy7ILHIbb) contains even more references to cheatsheets, tutorials, etc.\n",
    "\n",
    "Bear in mind that you can use Git from the command line (which I would always advise in the learning stages), but that there are also desktop applications, such as [GitHub Desktop](https://desktop.github.com/), [GitKraken](https://www.gitkraken.com/) or integrations for your editor, such as [GitLens](https://marketplace.visualstudio.com/items?itemName=eamodio.gitlens) for VSCode.\n",
    "\n"
   ]
  }
 ],
 "metadata": {
  "kernelspec": {
   "display_name": "Python 3.8.10 64-bit",
   "language": "python",
   "name": "python3"
  },
  "language_info": {
   "codemirror_mode": {
    "name": "ipython",
    "version": 3
   },
   "file_extension": ".py",
   "mimetype": "text/x-python",
   "name": "python",
   "nbconvert_exporter": "python",
   "pygments_lexer": "ipython3",
   "version": "3.8.10"
  },
  "vscode": {
   "interpreter": {
    "hash": "31f2aee4e71d21fbe5cf8b01ff0e069b9275f58929596ceb00d14d90e3e16cd6"
   }
  }
 },
 "nbformat": 4,
 "nbformat_minor": 4
}
