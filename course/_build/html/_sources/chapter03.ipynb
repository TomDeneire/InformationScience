{
 "cells": [
  {
   "cell_type": "markdown",
   "metadata": {},
   "source": [
    "# Chapter 3: Encoding Information\n"
   ]
  },
  {
   "cell_type": "markdown",
   "metadata": {},
   "source": [
    "![](images/Hello_World_Brainfuck.png)\n",
    "\n",
    "\"Hello world\" program in __[Brainfuck](https://en.wikipedia.org/wiki/Brainfuck)__\n"
   ]
  },
  {
   "cell_type": "markdown",
   "metadata": {},
   "source": [
    "> *TL;DR: There is no such thing as pure information. Information is encoded and needs to be decoded and manipulated before use.*"
   ]
  },
  {
   "cell_type": "markdown",
   "metadata": {},
   "source": [
    "## Manipulating Information\n",
    "\n",
    "Let's go back to Paul Otlet and his index cards for a minute. For me, one of the key takeaways of this story is the simple fact that information never just *is*. Even when we think we are merely making it accessable through catalogs or search engines, information is, as the postmodern philosopher [Jacques Derrida](https://en.wikipedia.org/wiki/Jacques_Derrida) would say, *always already* manipulated. \n",
    "\n",
    "So we could say that at the heart of information retrieval is **manipulating information**, i.e. selecting, grouping, filtering, ordering, sorting, ranking. In fact, `select`, `group`, `filter`, `order`, `sort` and `rank` are the most important keywords in the world's most used database query language, [SQL](https://en.wikipedia.org/wiki/SQL), which we will talk about later.\n",
    "\n",
    "In programming terms, this manipulation often boils down to basic **string operations**, like filtering strings on the presence of substrings, grouping or sorting them. And while manipulating strings might seem easy, things can get complicated really easily."
   ]
  },
  {
   "cell_type": "markdown",
   "metadata": {},
   "source": [
    "## Sorting strings\n",
    "\n",
    "Let's look at the example of sorting strings. Suppose our task is presenting an alphabetized list of contact persons. \n",
    "\n",
    "Of course, in Python you can just do this:"
   ]
  },
  {
   "cell_type": "code",
   "execution_count": 1,
   "metadata": {
    "tags": []
   },
   "outputs": [
    {
     "name": "stdout",
     "output_type": "stream",
     "text": [
      "['Doe, Jane', 'Doe, John', 'Poppins, Mary']\n"
     ]
    }
   ],
   "source": [
    "contacts = [\"Doe, John\", \"Poppins, Mary\", \"Doe, Jane\"]\n",
    "sorted_contacts = sorted(contacts)\n",
    "print(sorted_contacts)"
   ]
  },
  {
   "cell_type": "markdown",
   "metadata": {},
   "source": [
    "But suppose you are dealing with a programming language where there is no built-in sorting method. (And believe me, there are!) How would you go about sorting a list of strings?\n",
    "\n",
    "The key to this problem is that in computing there really is no such thing as characters. All characters are represented by some numerical value and various sorting algorithms use these values to implement string sorting. \n",
    "\n",
    "This takes us to the issue of encoding, which is at the heart of all things digital."
   ]
  },
  {
   "cell_type": "markdown",
   "metadata": {},
   "source": [
    "## Encoding\n",
    "\n",
    "Encoding is not an easy concept to wrap your head around. When I first started out programming, I took me quite some time to really grasp it (and when I finally did, I wrote a blog post [Text versus bytes](https://medium.com/analytics-vidhya/dev-101-text-versus-bytes-70548216409b) about it). So let's see if we can come to understand it. "
   ]
  },
  {
   "cell_type": "markdown",
   "metadata": {},
   "source": [
    "### Ones and zeros\n",
    "\n",
    "A computer is an electronic device, which really only \"understands\" on and off. Think of how the light goes on and off when you flip the switch. In a way, a computer is basically a giant collection of light switches.\n",
    "\n",
    "This is why a computer's processor can only operate on `0` and `1`, or **bits**, which can be combined to represent binary numbers, e.g. `100 = 4`. It is these binary numbers that the processor uses as both data and instructions (a.k.a. \"machine code\").\n",
    "\n",
    "It makes sense to group bits into units; otherwise, we would just end up with one long string of ones and zeros and no way to chop it up into meaningful parts. A group of eight binary digits is called a **byte**, but historically the size of the byte is not strictly defined. In general, though, modern computer architectures work with an 8-bit byte."
   ]
  },
  {
   "cell_type": "markdown",
   "metadata": {},
   "source": [
    "### Bytes\n",
    "\n",
    "This binary nature of computers means that on a fundamental level all data is just a collection of bytes. Take files, for instance. In essence, there's no difference between a text file, an image or an executable. So it's actually a bit (pun not intended) confusing when people talk about the \"binary\" files, i.e. not human-readable, as opposed to human-readable \"text\".\n",
    "\n",
    "Let's look at an example `myfile`:\n",
    "\n",
    "    $ xxd -b myfile\n",
    "    00000000: 01101000 01100101 01101100 01101100 01101111 00100000\n",
    "    00000006: 01110111 01101111 01110010 01101100 01100100 00001010\n",
    "The instruction `xxd -b` asks for a binary \"dump\" of `myfile`. \n",
    "\n",
    "We see that it contains 12 eight-bit bytes. Because the binary representation is difficult on the eyes, bytes are often displayed as hexadecimal numbers:\n",
    "\n",
    "    $ xxd -g 1 myfile\n",
    "    00000000: 68 65 6c 6c 6f 20 77 6f 72 6c 64 0a\n",
    "\n",
    "Or (less often) as decimal numbers:\n",
    "\n",
    "    $ od -t d1 myfile\n",
    "    0000000  104  101  108  108  111   32  119  111  114  108  100  10\n",
    "\n",
    "In decimals, 8-bit bytes go up to 256, which makes sense as 2⁸ = 256, i.e. eight positions can hold either zero or one, which equals 256 combinations.\n",
    "\n",
    "But how do we know what these bytes represent?"
   ]
  },
  {
   "cell_type": "markdown",
   "metadata": {},
   "source": [
    "### Character encoding\n",
    "\n",
    "In order to interpret bytes in an meaningful way, for instance to display them as text or as an image, we need to give the computer additional information. This is done in several ways, one of which is predetermining the file structure with identifiable sequences of bytes.\n",
    "\n",
    "Another is specifying an **encoding**, which you can think of as a lookup table connecting meaning to its corresponding digital representation. When it comes to text, we call this \"character\n",
    "encoding\". Turning characters into code is referred to as \"encoding\", interpreting code as characters is \"decoding\".\n",
    "\n",
    "One of the earliest character encoding standards was [ASCII](https://en.wikipedia.org/wiki/ASCII), which specifies that the character `a` is represented as byte `61` (hexadecimal) or `97` (decimal) or `01100001` (binary). However, since 8-bit bytes only give you 256 possibilities, today multibyte encodings are used. In the past, different areas of the world used different encodings, which was software's Tower of Babel, causing a bunch of communication problems to this day. Luckily, today [UTF8](https://en.wikipedia.org/wiki/UTF-8) is more or less the international standard --- for instance, accounting for 97% of all web pages. UTF-8 is capable of encoding all 1,112,064 valid character [code points](https://en.wikipedia.org/wiki/Code_point) in [Unicode](https://en.wikipedia.org/wiki/Unicode) using one to four one-byte units."
   ]
  },
  {
   "cell_type": "markdown",
   "metadata": {},
   "source": [
    "### Bytes as text\n",
    "\n",
    "Going back to our file, we can now ask the computer to interpret these bytes as text. It is important to realize that any time we display bytes as text, be it in a terminal, a word processor, an editor or a browser, we need a character encoding. Often, we are unaware of encoding that is used, but there is always a choice to be made, whether by default settings or by some clever software that tries to identify the encoding.\n",
    "\n",
    "Terminals, for instance, have a default character setting --- mine is set to UTF-8. So when we ask to print `myfile` we see this:\n",
    "\n",
    "    $ cat myfile\n",
    "    hello world\n",
    "\n",
    "This means the bytes we discussed earlier are the UTF-8 representation of the string `hello world`. For this example, other character encodings, like ASCII or ISO-Latin-1 would yield the same result. But the difference quickly becomes clear when we look at another example.\n",
    "\n",
    "Let's save the UTF-8 encoded text string `El Niño` as a file and then print it. We can do that in the terminal --- remember, it's set to UTF-8 display by default:\n",
    "\n",
    "    $ echo \"El Niño\" > myfile\n",
    "    $ cat myfile\n",
    "    El Niño\n",
    "\n",
    "Now let's change the terminal's encoding to [CP-1252](https://en.wikipedia.org/wiki/Windows-1252) and see what happens when we print the same file:\n",
    "\n",
    "    $ cat myfile\n",
    "    El NiÃ±o\n",
    "\n",
    "We call this [Mojibake](https://en.wikipedia.org/wiki/Mojibake); the garbled text that I'm sure you've often seen under the form of the generic replacement �. But do you understand why this happens? Because `myfile` contains bytes entered as UTF-8 encoded text, displaying the same\n",
    "bytes in another encoding doesn't give the result we expect.\n",
    "\n",
    "This is also explains why commands like `cat` don't work on so-called binary files, or opening them in an editor reveals only gibberish: they're not encoded as text."
   ]
  },
  {
   "cell_type": "markdown",
   "metadata": {},
   "source": [
    "### Text as bytes\n",
    "\n",
    "The example of `El Niño` shows that we can also take text --- a string typed in a terminal --- and use that as bytes. For instance, when we save text from an editor in a file. At first, this can be a tricky concept to wrap your head round. Bytes can be strings and strings are bytes. The important thing to remember is that whenever you handle text or characters, there is an (explicit or implicit) encoding at work.\n",
    "\n",
    "When you think of it, code is text too, so some programming languages make certain encoding assumptions as well. Others just deal with text as bytes and leave the encoding up to other applications (such as a browser or a terminal).\n",
    "\n",
    "Go, for instance, is natively UTF-8, for instance, which means you can do this:\n",
    "\n",
    "    package main\n",
    "\n",
    "    import \"fmt\"\n",
    "\n",
    "    func main() {\n",
    "        fmt.Println(\"Hello, 世界\")\n",
    "    }\n",
    "\n",
    "Python 3 is UTF-8 too, but Python 2 used to be ASCII. So, regardless of whether your code editor is able to display such a string or not, the Python 2 will complain if you try to use the print function on it. Remember, print tells a device to display bytes. So if you put this in a file `test.py`\n",
    "\n",
    "    print \"Hello, 世界\"\n",
    "\n",
    "and execute it with Python 2, it will throw the following error.\n",
    "\n",
    "    py2 test.py\n",
    "\n",
    "    File \"test.py\", line 1\n",
    "    SyntaxError: Non-ASCII character '\\\\xe4' in file test.py on line 1, but no encoding declared; see http://python.org/dev/peps/pep-0263/ for details\n",
    "\n",
    "The bottom line is that you should always be careful when handling text and when in doubt use explicit encoding or decoding mechanisms."
   ]
  },
  {
   "cell_type": "markdown",
   "metadata": {},
   "source": [
    "### Handling multibyte characters\n",
    "\n",
    "There's a lot more to say about character encodings, but I'll wrap things up with an observation about multibyte characters that might prompt you to study the subject more in depth.\n",
    "\n",
    "A popular question in code interviews is to ask the candidate to write (pseudo-)code to reverse a string. In Python, for instance, there is a nice oneliner for this, which uses a slice from end to start (`::`) that steps backward (`-1`):"
   ]
  },
  {
   "cell_type": "code",
   "execution_count": 1,
   "metadata": {},
   "outputs": [
    {
     "name": "stdout",
     "output_type": "stream",
     "text": [
      "dlroW olleH\n"
     ]
    }
   ],
   "source": [
    "print(\"Hello World\"[::-1])"
   ]
  },
  {
   "cell_type": "markdown",
   "metadata": {},
   "source": [
    "Yet think about what happens under the hood. Apparently, there is a mechanism that iterates over the bytes that make up the string and reverses their order. But what happens when a character is represented by more than one byte? For instance, 界 , is four bytes in UTF-8 (`e7 95 8c 0a` in hex. The first of these is a *leader* byte, a byte reserved to start a specific multibyte sequence, the other three are *continuation* bytes, which are only valid when preceded by a\n",
    "leader. So when you reverse these bytes, you end up with a different byte sequence, which is actually invalid UTF-8!\n",
    "\n",
    "Fortunately, Python (which is natively UTF-8, remember) is able to handle this"
   ]
  },
  {
   "cell_type": "code",
   "execution_count": 2,
   "metadata": {},
   "outputs": [
    {
     "name": "stdout",
     "output_type": "stream",
     "text": [
      "界世 ,olleH\n"
     ]
    }
   ],
   "source": [
    "print(\"Hello, 世界\"[::-1])"
   ]
  },
  {
   "cell_type": "markdown",
   "metadata": {},
   "source": [
    "In other programming languages, though, you would have to write a function that identifies byte *units* in the string and then reverse their order, not the bytes themselves. Which would imply\n",
    "knowledge of the string's encoding..."
   ]
  },
  {
   "cell_type": "markdown",
   "metadata": {},
   "source": [
    "### Conclusion\n",
    "\n",
    "Text versus bytes is a complex issue that even advanced programmers can struggle with, or have tried to avoid for most of their careers. However, it is a fascinating reminder of the very essence of computing and understanding it, or at least the fundamentals, is really\n",
    "indispensable for any software developer."
   ]
  },
  {
   "cell_type": "markdown",
   "metadata": {},
   "source": [
    "## Unicode\n",
    "\n",
    "Now that we have a better understanding of encoding, let's go back to our sorting example, and consider the application of [Unicode](https://en.wikipedia.org/wiki/Unicode) code points for mapping characters to numerical values. In Python we can use the function `ord()` to get a character's decimal Unicode code point:\n"
   ]
  },
  {
   "cell_type": "code",
   "execution_count": 6,
   "metadata": {
    "tags": []
   },
   "outputs": [
    {
     "name": "stdout",
     "output_type": "stream",
     "text": [
      "68,111,101,44,32,74,111,104,110,"
     ]
    }
   ],
   "source": [
    "for char in \"Doe, John\":\n",
    "    print(ord(char), end=\",\")"
   ]
  },
  {
   "cell_type": "markdown",
   "metadata": {},
   "source": [
    "So far so good, it seems. But matters quickly get complex. One example is the difference between upper and lower case:"
   ]
  },
  {
   "cell_type": "code",
   "execution_count": 2,
   "metadata": {
    "tags": []
   },
   "outputs": [
    {
     "name": "stdout",
     "output_type": "stream",
     "text": [
      "100,111,101,44,32,106,111,104,110,\n",
      "\n",
      "68,79,69,44,32,74,79,72,78,\n",
      "\n"
     ]
    }
   ],
   "source": [
    "for item in [\"doe, john\", \"DOE, JOHN\"]:\n",
    "    for char in item:\n",
    "        print(ord(char),end=\",\")\n",
    "    print(\"\\n\")"
   ]
  },
  {
   "cell_type": "markdown",
   "metadata": {},
   "source": [
    "You can account for that by converting all strings to lower case before sorting, but what happens in the case of the French `Étienne` versus `Etienne`, which you would want to be sorted close to each other and are, in fact, used interchangeably?"
   ]
  },
  {
   "cell_type": "code",
   "execution_count": 2,
   "metadata": {
    "tags": []
   },
   "outputs": [
    {
     "name": "stdout",
     "output_type": "stream",
     "text": [
      "é = 233 ,t = 116 ,i = 105 ,e = 101 ,n = 110 ,n = 110 ,e = 101 ,\n",
      "\n",
      "e = 101 ,t = 116 ,i = 105 ,e = 101 ,n = 110 ,n = 110 ,e = 101 ,"
     ]
    }
   ],
   "source": [
    "for char in \"Étienne\".lower():\n",
    "    print(char + \" = \" + str(ord(char)), end=\" ,\")\n",
    "print(\"\\n\")\n",
    "for char in \"Etienne\".lower():\n",
    "    print(char + \" = \" + str(ord(char)), end=\" ,\")"
   ]
  },
  {
   "cell_type": "markdown",
   "metadata": {},
   "source": [
    "We can complicate matters even more:"
   ]
  },
  {
   "cell_type": "code",
   "execution_count": 3,
   "metadata": {},
   "outputs": [
    {
     "name": "stdout",
     "output_type": "stream",
     "text": [
      "Å\n",
      "Å\n",
      "Å\n"
     ]
    }
   ],
   "source": [
    "print('\\u00C5')\n",
    "print('\\u212B')\n",
    "print('\\u0041\\u030A')"
   ]
  },
  {
   "cell_type": "markdown",
   "metadata": {},
   "source": [
    "This example shows that even Unicode code points don't offer a unique mapping of characters to numbers. Luckily, to solve this, there is something called [Unicode normalization](https://en.wikipedia.org/wiki/Unicode_equivalence#Normalization)."
   ]
  },
  {
   "cell_type": "markdown",
   "metadata": {},
   "source": [
    "## Decoding\n",
    "\n",
    "It is important to realize that all text-oriented interfaces that you use to display text will make implicit or explicit assumptions about the encoding of texts. Whether it is your terminal environment, the editor you use (e.g. VSCode) or even a programming language, you need to be aware of such default encodings.\n",
    "\n",
    "For instance, Python3 (not Python2) is default UTF8. So if you receive strings in a different encoding, which will happen in real-life applications like scraping text from the internet, you'll have to decode them with the proper codec to render your results properly.\n",
    "\n",
    "Let's simulate what would happen if you were working with non-UTF8 encoded strings in Python3 and decode them with the default codec"
   ]
  },
  {
   "cell_type": "code",
   "execution_count": 5,
   "metadata": {},
   "outputs": [
    {
     "name": "stdout",
     "output_type": "stream",
     "text": [
      "b'\\xc3\\xa9'\n",
      "é\n",
      "b'\\xe9'\n",
      "Unable to print bytes b'\\xe9' in UTF8\n",
      "b'\\x82'\n",
      "Unable to print bytes b'\\x82' in UTF8\n"
     ]
    }
   ],
   "source": [
    "e_accent_aigue = chr(233)  # unicode code point for é character\n",
    "for encoding in ['utf8', 'latin1', 'ibm850']:\n",
    "    bytes_string = e_accent_aigue.encode(encoding=encoding)\n",
    "    print(bytes_string)\n",
    "    try:\n",
    "        print(bytes_string.decode())  # the default is equal to .decode(encoding='utf8')\n",
    "    except UnicodeDecodeError:\n",
    "        print(f\"Unable to print bytes {bytes_string} in UTF8\")"
   ]
  },
  {
   "cell_type": "markdown",
   "metadata": {},
   "source": [
    "You can see how complex seemingly trivial tasks of information theory, like alphabetizing a list, really are. We've gone from Paul Otlet's grand visions of the future to the nitty-gritty bits and bytes, one of the most fundamental concepts in computer science, really quickly."
   ]
  },
  {
   "cell_type": "markdown",
   "metadata": {},
   "source": [
    "## Exercise: Onegram Counter\n",
    "\n",
    "You probably know about Google Book's [Ngram Viewer](https://books.google.com/ngrams): when you enter phrases into it, it displays a graph showing how those phrases have occurred in a corpus of books (e.g. \"British English\", \"English Fiction\", \"French\") over the selected years. \n",
    "\n",
    "The code example for this chapter is building a Python function that can take the file `data/corpus.txt` (UTF-8 encoded) from this repository as an argument and print a count of the 100 most frequent 1-grams (i.e. single words).\n",
    "\n",
    "In essence the job is to do this:"
   ]
  },
  {
   "cell_type": "code",
   "execution_count": 8,
   "metadata": {
    "tags": []
   },
   "outputs": [
    {
     "name": "stdout",
     "output_type": "stream",
     "text": [
      "[('the', 11852), ('', 5952), ('of', 5768), ('and', 5264), ('to', 4027), ('a', 3980), ('in', 3548), ('that', 2336), ('his', 2061), ('it', 1517), ('as', 1490), ('i', 1488), ('with', 1460), ('he', 1448), ('is', 1400), ('was', 1393), ('for', 1337), ('but', 1319), ('all', 1148), ('at', 1116), ('this', 1063), ('by', 1042), ('from', 944), ('not', 933), ('be', 863), ('on', 850), ('so', 763), ('you', 718), ('one', 694), ('have', 658), ('had', 647), ('or', 638), ('were', 551), ('they', 547), ('are', 504), ('some', 498), ('my', 484), ('him', 480), ('which', 478), ('their', 478), ('upon', 475), ('an', 473), ('like', 470), ('when', 458), ('whale', 456), ('into', 452), ('now', 437), ('there', 415), ('no', 414), ('what', 413), ('if', 404), ('out', 397), ('up', 380), ('we', 379), ('old', 365), ('would', 350), ('more', 348), ('been', 338), ('over', 324), ('only', 322), ('then', 312), ('its', 307), ('such', 307), ('me', 307), ('other', 301), ('will', 300), ('these', 299), ('down', 270), ('any', 269), ('than', 262), ('has', 257), ('very', 252), ('though', 245), ('yet', 245), ('those', 242), ('must', 238), ('them', 237), ('her', 237), ('do', 234), ('about', 234), ('said', 233), ('ye', 232), ('who', 231), ('still', 229), ('great', 229), ('most', 228), ('man', 220), ('two', 219), ('seemed', 216), ('long', 214), ('your', 213), ('before', 212), ('it,', 210), ('thou', 210), ('ship', 209), ('after', 208), ('white', 207), ('did', 202), ('little', 201), ('him,', 194)]\n"
     ]
    }
   ],
   "source": [
    "from collections import Counter\n",
    "import os\n",
    "\n",
    "def onegrams(file: str) -> Counter:\n",
    "    \"\"\"\n",
    "    Function that takes a filepath as argument \n",
    "    and returns a counter object for onegrams (single words)\n",
    "    \"\"\"\n",
    "    with open(file, 'r') as corpus:\n",
    "        raw_text = corpus.read()\n",
    "        # .casefold() is better than .lower() here\n",
    "        # https://www.programiz.com/python-programming/methods/string/casefold\n",
    "        normalized_text = raw_text.casefold()\n",
    "        words = normalized_text.split(' ')\n",
    "        return Counter(words) \n",
    "\n",
    "CORPUS = os.path.join('data', 'corpus.txt')\n",
    "ngrams = onegrams(CORPUS)\n",
    "print(ngrams.most_common(100))"
   ]
  },
  {
   "cell_type": "markdown",
   "metadata": {},
   "source": [
    "However, there is a twist: you can't use the `collections` library...\n",
    "\n",
    "Moreover, try to think about what may be suboptimal in this example. For instance, in this code all of the text is loaded into memory in one time (with the `read()` method). What would happen if we tried this on a really big text file? \n",
    "\n",
    "**Most importantly, the count is also wrong**. Check by counting in an editor, for instance, and try to find out why. (For instance, `and` actually occurs 6471 times!)"
   ]
  },
  {
   "cell_type": "markdown",
   "metadata": {},
   "source": [
    "## Further reading\n",
    "\n",
    "- If you want to get a really good idea of how complex counting words can get, you can read this blog post __[Performance comparison: counting words in Python, Go, C++, C, AWK, Forth, and Rust](https://benhoyt.com/writings/count-words/)__."
   ]
  }
 ],
 "metadata": {
  "kernelspec": {
   "display_name": "Python 3.8.10 64-bit",
   "language": "python",
   "name": "python3"
  },
  "language_info": {
   "codemirror_mode": {
    "name": "ipython",
    "version": 3
   },
   "file_extension": ".py",
   "mimetype": "text/x-python",
   "name": "python",
   "nbconvert_exporter": "python",
   "pygments_lexer": "ipython3",
   "version": "3.8.10"
  },
  "vscode": {
   "interpreter": {
    "hash": "31f2aee4e71d21fbe5cf8b01ff0e069b9275f58929596ceb00d14d90e3e16cd6"
   }
  }
 },
 "nbformat": 4,
 "nbformat_minor": 2
}
