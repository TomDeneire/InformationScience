{
 "cells": [
  {
   "cell_type": "markdown",
   "metadata": {},
   "source": [
    "# Exam: 2005FLWDTA - Information Sience\n",
    "\n",
    "## Details\n",
    "\n",
    "TAALKUND 2005FLWDTA - ZIT2 \n",
    "6 September 2023 09:00 - 12:00 \n",
    "CST - KS Het Brantijser 203\n",
    "Written exam\n",
    "Exam group 1\n",
    "\n",
    "## Organization\n",
    "\n",
    "- Using the course material and the Internet is allowed for this exam.\n",
    "- Do not use any external Python modules that are not part of the standard library (e.g. pandas).\n",
    "- The exam must be submitted by e-mail to `tom.deneire@uantwerpen.be` before 12 o'clock. \n",
    "- Submission is done in the form of a single `.ipynb` file attached to the aforementioned email.\n",
    "- Include your name and student number in the email body and in the next cell of this notebook."
   ]
  },
  {
   "cell_type": "markdown",
   "metadata": {},
   "source": [
    "## Name and student number\n",
    "\n",
    "..."
   ]
  },
  {
   "cell_type": "markdown",
   "metadata": {},
   "source": [
    "## Part 1: non-coding questions\n",
    "\n",
    "### Question 1-1\n",
    "\n",
    "In her book \"Foundations of Information\", Amy Ko discusses both sides of the argument that computers are the \"best\" information technology. Describe two upsides and two downsides of the computer relative to other information technologies (e.g. printing press, photography, ...)."
   ]
  },
  {
   "cell_type": "markdown",
   "metadata": {},
   "source": [
    "### Answer 1-1\n",
    "\n",
    "..."
   ]
  },
  {
   "cell_type": "markdown",
   "metadata": {},
   "source": [
    "### Question 1-2\n",
    "\n",
    "Have a look at the ICONCLASS website: [https://iconclass.org/](https://iconclass.org/).\n",
    "\n",
    "In terms of information science, what is ICONCLASS and give an example of how you could use it in an information system."
   ]
  },
  {
   "cell_type": "markdown",
   "metadata": {},
   "source": [
    "### Answer 1-2\n",
    "\n",
    "..."
   ]
  },
  {
   "cell_type": "markdown",
   "metadata": {},
   "source": [
    "## Part 2: coding questions\n",
    "\n",
    "### Question 2-1\n",
    "\n",
    "Write a function that takes this list of word tuples, calculates the Jaro-Winkler similarity, and returns the list ranked by decreasing similarity (see answer section). "
   ]
  },
  {
   "cell_type": "markdown",
   "metadata": {},
   "source": [
    "### Answer 2-1 \n",
    "\n",
    "(model answer: +/- 10 lines of code excluding the Jaro-Winkler algorithm)"
   ]
  },
  {
   "cell_type": "code",
   "execution_count": null,
   "metadata": {},
   "outputs": [],
   "source": [
    "WORDS = [\n",
    "    ('house', 'hose'),\n",
    "    ('card', 'cord'),\n",
    "    ('same', 'same'),\n",
    "    ('today', 'yesterday'),\n",
    "    ('pit', 'tip')\n",
    "]\n",
    "\n",
    "def rank(words_list: list) -> list:\n",
    "    ...\n",
    "\n",
    "print(rank(WORDS))\n",
    "\n",
    "EXPECTED_OUTPUT = [\n",
    "    ('same', 'same'),\n",
    "    ('house', 'hose'),\n",
    "    ('card', 'cord'),\n",
    "    ('pit', 'tip'),\n",
    "    ('today', 'yesterday')\n",
    "]"
   ]
  },
  {
   "cell_type": "markdown",
   "metadata": {},
   "source": [
    "### Question 2-2\n",
    "\n",
    "#### Background information\n",
    "\n",
    "IIIF (in full \"International Image Interoperability Framework\") is a collection of JSON-based web APIs by which providers (such as libraries, musea, collections) make images available for the outside world.\n",
    "\n",
    "The IIIF Presentation API offers all metadata about a IIIF resource (a book, a painting, a piece of art, ...) as a \"manifest\" file (JSON), e.g.:\n",
    "\n",
    "[https://anet.be/iiif/7775db2cb90285e316498d2818862b8389a068ca/manifest](https://anet.be/iiif/7775db2cb90285e316498d2818862b8389a068ca/manifest)\n",
    "\n",
    "\n",
    "#### Question\n",
    "\n",
    "Write a function that takes a manifest identifier, harvests its JSON manifest file online and converts the following metadata into an XML structure: ``id`` (identifier), ``items > id`` (identifier of each item), ``summary > en`` and ``summary > nl`` (English summary). See the expected output in the code."
   ]
  },
  {
   "cell_type": "markdown",
   "metadata": {},
   "source": [
    "### Answer 2-3\n",
    "\n",
    "(model answer: +/- 40 lines of code)"
   ]
  },
  {
   "cell_type": "code",
   "execution_count": null,
   "metadata": {},
   "outputs": [],
   "source": [
    "MANIFEST_ID = \"7775db2cb90285e316498d2818862b8389a068ca\"\n",
    "\n",
    "def convert(manifest_id: str) -> str:\n",
    "    ...\n",
    "\n",
    "print(convert(MANIFEST_ID))\n",
    "\n",
    "EXPECTED_OUTPUT = '''\n",
    "<data>\n",
    "  <id>https://anet.be/iiif/7775db2cb90285e316498d2818862b8389a068ca/manifest</id>\n",
    "  <items>\n",
    "    <id>https://anet.be/iiif/7775db2cb90285e316498d2818862b8389a068ca/canvasbase/00000001</id>\n",
    "    <id>https://anet.be/iiif/7775db2cb90285e316498d2818862b8389a068ca/canvasbase/00000002</id>\n",
    "    <id>https://anet.be/iiif/7775db2cb90285e316498d2818862b8389a068ca/canvasbase/00000003</id>\n",
    "  </items>\n",
    "  <summary language=\"nl\">Aflaeten ... verleent aen het Broederschap van de H. ... Ursula ...</summary>\n",
    "  <summary language=\"en\">Aflaeten ... verleent aen het Broederschap van de H. ... Ursula ...</summary>\n",
    "</data>\n",
    "'''"
   ]
  }
 ],
 "metadata": {
  "kernelspec": {
   "display_name": "Python 3 (ipykernel)",
   "language": "python",
   "name": "python3"
  },
  "language_info": {
   "codemirror_mode": {
    "name": "ipython",
    "version": 3
   },
   "file_extension": ".py",
   "mimetype": "text/x-python",
   "name": "python",
   "nbconvert_exporter": "python",
   "pygments_lexer": "ipython3",
   "version": "3.11.5"
  },
  "vscode": {
   "interpreter": {
    "hash": "31f2aee4e71d21fbe5cf8b01ff0e069b9275f58929596ceb00d14d90e3e16cd6"
   }
  }
 },
 "nbformat": 4,
 "nbformat_minor": 2
}
