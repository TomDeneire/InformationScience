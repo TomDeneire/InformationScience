{
 "cells": [
  {
   "cell_type": "markdown",
   "metadata": {},
   "source": [
    "# Chapter 8: Searching Information\n",
    "\n",
    "![](images/regex.png)\n",
    "\n",
    "Credit: [xkcd.com](https://xkcd.com/1171/)"
   ]
  },
  {
   "cell_type": "markdown",
   "metadata": {},
   "source": [
    "## Introduction\n",
    "\n",
    "In the previous chapter we went from searching to indexing rather quickly. In fact, although we acknowledged that searching is a discrete field of computer science, we limited our practical discussion of it to an example of the .find() string method in Python! \n",
    "\n",
    "However, we have already seen that searching text is rarely as easy as that. Searching vast data sets lead us to indexing, as did the issue of complex searches, such as Boolean queries. Moreover, not all searching tasks can be solved with indexing. Sometimes we want to include wildcards (you are probably familiar with the `*` and `?` symbols) and will need to use **regular expressions** in our search, while other times we are not looking for exact results, but more interested in **fuzzy searching**. "
   ]
  },
  {
   "cell_type": "markdown",
   "metadata": {},
   "source": [
    "## Regular expressions\n",
    "\n",
    "The `*` symbol we used is actually part of a separate programming language, called **regular expressions**. [Wikipedia:Regular_expression](https://en.wikipedia.org/wiki/Regular_expression) says:\n",
    "\n",
    "> A regular expression (shortened as regex or regexp; also referred to as rational expression) is a sequence of characters that define a search pattern. Usually such patterns are used by string-searching algorithms for \"find\" or \"find and replace\" operations on strings, or for input validation. It is a technique developed in theoretical computer science and formal language theory.\n",
    "\n",
    "> The concept arose in the 1950s when the American mathematician Stephen Cole Kleene formalized the description of a regular language. The concept came into common use with Unix text-processing utilities. Different syntaxes for writing regular expressions have existed since the 1980s, one being the POSIX standard and another, widely used, being the Perl syntax.\n",
    "\n",
    "> Regular expressions are used in search engines, search and replace dialogs of word processors and text editors, in text processing utilities such as sed and AWK and in lexical analysis. Many programming languages provide regex capabilities either built-in or via libraries.\n",
    "\n",
    "Python uses the Perl regex syntax, as do, for instance, Java, JavaScript, Julia, Ruby, Microsoft's .NET Framework, and others. Some environments actually let you choose the regex syntax you want to use, like PHP or the UNIX `grep` command.\n",
    "\n",
    "Regular expressions are an extremely powerful tool, but as the above cartoon shows there is a downside too. It is sometimes said that regular expressions are a *write only* programming language, as the code is often hardly readable, especially if you revisit a regex written long ago. Moreover, regular expresssions can be very tricky, for example, when they provide exact matches in your tests, only to produce mismatches when you open up the use cases. \n",
    "\n",
    "Consider this example:\n"
   ]
  },
  {
   "cell_type": "code",
   "execution_count": 1,
   "metadata": {
    "tags": []
   },
   "outputs": [
    {
     "name": "stdout",
     "output_type": "stream",
     "text": [
      "['bar', 'car', 'tar', 'mar', 'far']\n"
     ]
    }
   ],
   "source": [
    "import re\n",
    "\n",
    "rhyme = re.compile(r'\\Dar')\n",
    "my_text = \"Let's look at the words bar, car, tar, mar and far\"\n",
    "print(re.findall(rhyme, my_text))"
   ]
  },
  {
   "cell_type": "markdown",
   "metadata": {},
   "source": [
    "So I'm looking for potential rhymes on \"bar\" and have written a regex that looks for one letter character `\\D` followed by `ar`. However, when you apply this to one of the paragraphs you quickly see some mismatches, as we forgot to specify that the pattern can only occur at the end of a word."
   ]
  },
  {
   "cell_type": "code",
   "execution_count": 2,
   "metadata": {
    "tags": []
   },
   "outputs": [
    {
     "name": "stdout",
     "output_type": "stream",
     "text": [
      "['lar', ' ar', 'car', 'lar', ' ar', 'har', 'lar']\n"
     ]
    }
   ],
   "source": [
    "paragraph = \"Regular expressions are an extremely powerful tool, but as the above cartoon shows there is a downside too. It is sometimes said that regular expressions are a write only programming language, as the code is often hardly readable, especially if you revisit a regex written long ago. Moreover, regular expresssions can be very tricky, for example, when they provide exact matches in your tests, only to produce mismatches when you open up the use cases.\"\n",
    "print(re.findall(rhyme, paragraph))"
   ]
  },
  {
   "cell_type": "markdown",
   "metadata": {},
   "source": [
    "So when you are inclined to use regular expressions, it is often good to ask yourself: is this the best solution for this problem? If you find yourself parsing XML with regular expressions (use a parsing library!), or testing the type of user input with regexes (use `.isinstance()`), reconsider!"
   ]
  },
  {
   "cell_type": "markdown",
   "metadata": {},
   "source": [
    "The only way to really get the hang of regular expressions is by diving in the deep end. Fortunately, there are many good tutorials online (e.g. at [w3schools](https://www.w3schools.com/python/python_regex.asp)) and there are also handy regex testers where you can immediately check your regex, like [regexr](https://regexr.com/). For a good Python cheat sheet, see this [Medium post](https://link.medium.com/BYkb73meJab).\n",
    "\n",
    "A good and certainly not trivial exercise would be to write a regex that can detect a valid email address, as specified in [RFC 5322](https://tools.ietf.org/html/rfc5322). For a (more readable) summary, see [Wikipedia:Email_address#Syntax](https://en.wikipedia.org/wiki/Email_address#Syntax).\n",
    "\n",
    "In practice, most applications that ask you to enter an email address will check on a simple subset of the specification. Can you whip something up that passes this test?"
   ]
  },
  {
   "cell_type": "code",
   "execution_count": 3,
   "metadata": {
    "tags": []
   },
   "outputs": [
    {
     "name": "stdout",
     "output_type": "stream",
     "text": [
      "Test failed on A@b@c@example.com. Expected = False. Result = True\n",
      "Test failed on 1234567890123456789012345678901234567890123456789012345678901234+x@example.com. Expected = False. Result = True\n",
      "Test failed on i_like_underscore@but_its_not_allow_in_this_part.example.com. Expected = False. Result = True\n"
     ]
    }
   ],
   "source": [
    "import re\n",
    "\n",
    "# Examples from https://en.wikipedia.org/wiki/Email_address#Examples\n",
    "TEST = {\n",
    "    # valid addresses\n",
    "    \"simple@example.com\": True, \n",
    "    \"very.common@example.com\": True, \n",
    "    \"disposable.style.email.with+symbol@example.com\": True, \n",
    "    \"other.email-with-hyphen@example.com\": True, \n",
    "    \"x@example.com (one-letter local-part)\": True, \n",
    "    \"admin@mailserver1\": True,  # local domain name with no TLD, although ICANN highly discourages dotless email addresses\n",
    "    # invalid_addresses\n",
    "    \"Abc.example.com\": False,  # no @ character\n",
    "    \"A@b@c@example.com\": False,  # only one @ is allowed outside quotation marks\n",
    "    \"1234567890123456789012345678901234567890123456789012345678901234+x@example.com\": False,  # local part is longer than 64 characters\n",
    "    \"i_like_underscore@but_its_not_allow_in_this_part.example.com\": False  # underscore is not allowed in domain part\n",
    "}\n",
    "\n",
    "def email_regex(address: str) -> bool:\n",
    "    # expand pattern\n",
    "    pattern = r'.*?@.*?'\n",
    "    if re.search(pattern, address):\n",
    "        return True\n",
    "    else:\n",
    "        return False\n",
    "\n",
    "for case in TEST:\n",
    "    result = email_regex(case)\n",
    "    if not result == TEST[case]:\n",
    "        print(f\"Test failed on {case}. Expected = {TEST[case]}. Result = {result}\")\n",
    "    \n"
   ]
  },
  {
   "cell_type": "markdown",
   "metadata": {},
   "source": [
    "## Fuzzy searching\n",
    "\n",
    "Regular expressions can also be used to illustrate the concept of fuzzy searching or approximate string matching, which is the technique of finding strings that match a pattern approximately rather than exactly. [Wikipedia:Approximate_string_matching](https://en.wikipedia.org/wiki/Approximate_string_matching) explains:\n",
    "\n",
    "> The closeness of a match is measured in terms of the number of primitive operations necessary to convert the string into an exact match. This number is called the edit distance between the string and the pattern. The usual primitive operations are:\n",
    "\n",
    "> > insertion: cot → co**a**t\n",
    "\n",
    "> > deletion: co**a**t → cot\n",
    "\n",
    "> > substitution: co**a**t → co**s**t\n",
    "\n",
    ">These three operations may be generalized as forms of substitution by adding a NULL character (here symbolized by `*`) wherever a character has been deleted or inserted:\n",
    "\n",
    "> > insertion: co*****t → co**a**t\n",
    "\n",
    "> > deletion: co**a**t → co\\*t\n",
    "\n",
    "> > substitution: co**a**t → co**s**t\n",
    "\n",
    "> Some approximate matchers also treat transposition, in which the positions of two letters in the string are swapped, to be a primitive operation.\n",
    "\n",
    "> > transposition: co**st** → co**ts**\n",
    "\n",
    "> Different approximate matchers impose different constraints. Some matchers use a single global unweighted cost, that is, the total number of primitive operations necessary to convert the match to the pattern. For example, if the pattern is coil, foil differs by one substitution, coils by one insertion, oil by one deletion, and foal by two substitutions. If all operations count as a single unit of cost and the limit is set to one, foil, coils, and oil will count as matches while foal will not.\n",
    "\n",
    ">Other matchers specify the number of operations of each type separately, while still others set a total cost but allow different weights to be assigned to different operations. Some matchers permit separate assignments of limits and weights to individual groups in the pattern."
   ]
  },
  {
   "cell_type": "markdown",
   "metadata": {},
   "source": [
    "### String metrics\n",
    "\n",
    "As a concrete example of a string matcher, we can have a look at string metrics. \n",
    "\n",
    "A [string metric](https://en.wikipedia.org/wiki/String_metric) (also known as a string similarity metric or string distance function) is a metric that measures distance (\"inverse similarity\") between two text strings. A string metric provides a number indicating an algorithm-specific indication of distance. The most widely known string metric is a rudimentary one called the [Levenshtein distance](https://en.wikipedia.org/wiki/Levenshtein_distance) (also known as \"edit distance\"). \n",
    "\n",
    "Another is the [Jaro-Winkler distance](https://en.wikipedia.org/wiki/Jaro%E2%80%93Winkler_distance), which is perhaps a bit easier to grasp. The lower the Jaro-Winkler distance for two strings is, the more similar the strings are. The score is normalized such that 1 means an exact match and 0 means there is no similarity. For a Python implementation of the Jaro-Winkler similarity, which is a modified version of the Jaro-Winkler distance, giving more favorable ratings to strings that match from the beginning, see the [course repository](https://github.com/TomDeneire/InformationScience/blob/main/course/jarowinkler.py).\n",
    "\n"
   ]
  },
  {
   "cell_type": "markdown",
   "metadata": {},
   "source": [
    "## Final remark\n",
    "\n",
    "With the discussion of searching, we come to the end of our very succinct overview of Information Science. \n",
    "\n",
    "Had our topic been Information *Retrieval*, we would have needed to add two additional, crucial steps, i.e. the **evaluation and ranking** of the search results. This articulates the difference between database querying, with results in *data*, and information retrieval querying, which results in *documents* containing data. In order to sift through the search results of the latter, we need [evaluation measures](https://en.wikipedia.org/wiki/Evaluation_measures_(information_retrieval)) and [ranking](https://en.wikipedia.org/wiki/Ranking_(information_retrieval)) to make the results usable. Unfortunately, evaluation and ranking are beyond the scope of this course."
   ]
  },
  {
   "cell_type": "markdown",
   "metadata": {},
   "source": [
    "## Assignment: Spelling checker\n",
    "\n",
    "One very practical application of string metrics, search evaluation and ranking is writing a spelling checker. \n",
    "\n",
    "I'm not going to reveal too much of the solution here, but what I can say is that you'll definitely need two things:\n",
    "\n",
    "1. A dictionary of existing words. As the corpus of the dictionary you can use the collection of words found in the British fiction corpus from the previous chapter. This is limited, but it'll do for now.\n",
    "\n",
    "2. A string metric. For this, you can use the Jaro-Winkler metric, which you do not have to implement yourself. Instead just use the code supplied in `jarowinkler.py` as shown below.\n",
    "\n",
    "Your application should do two things:\n",
    "\n",
    "1. Build the dictionary and save it in some form so it does not have to be rebuilt every time when the application is used.\n",
    "\n",
    "2. Take a string and print on standard output a list of potential spelling mistakes, with a limited number of suggestions for the correction.\n",
    "\n",
    "As a final tip, you should consider reusing some of your code from chapter 3 for this application...\n"
   ]
  },
  {
   "cell_type": "code",
   "execution_count": 6,
   "metadata": {
    "tags": []
   },
   "outputs": [
    {
     "name": "stdout",
     "output_type": "stream",
     "text": [
      "0.9333333333333333\n"
     ]
    }
   ],
   "source": [
    "from jarowinkler import jaro_winkler\n",
    "print(jaro_winkler(\"coat\", \"cot\"))"
   ]
  }
 ],
 "metadata": {
  "kernelspec": {
   "display_name": "Python 3.8.5 64-bit",
   "metadata": {
    "interpreter": {
     "hash": "31f2aee4e71d21fbe5cf8b01ff0e069b9275f58929596ceb00d14d90e3e16cd6"
    }
   },
   "name": "python3"
  },
  "language_info": {
   "codemirror_mode": {
    "name": "ipython",
    "version": 3
   },
   "file_extension": ".py",
   "mimetype": "text/x-python",
   "name": "python",
   "nbconvert_exporter": "python",
   "pygments_lexer": "ipython3",
   "version": "3.8.10"
  },
  "orig_nbformat": 2
 },
 "nbformat": 4,
 "nbformat_minor": 2
}
