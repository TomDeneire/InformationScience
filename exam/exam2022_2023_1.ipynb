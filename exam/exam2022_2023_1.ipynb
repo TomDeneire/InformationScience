{
 "cells": [
  {
   "cell_type": "markdown",
   "metadata": {},
   "source": [
    "# Exam: 2005FLWDTA - Information Sience\n",
    "\n",
    "## Details\n",
    "\n",
    "TAALKUND 2005FLWDTA - ZIT1 \n",
    "31 January 2023 09:00 - 12:00 \n",
    "CST SJ - Het Brantijser 117 \n",
    "Written exam\n",
    "Exam group 1\n",
    "\n",
    "## Organization\n",
    "\n",
    "- Using the course material and the Internet is allowed for this exam.\n",
    "- The exam must be submitted by e-mail to `tom.deneire@uantwerpen.be` before 12 o'clock. \n",
    "- Submission is done in the form of a single `.ipynb` file attached to the aforementioned email.\n",
    "- Include your name and student number in the email body and in the next cell of this notebook."
   ]
  },
  {
   "cell_type": "markdown",
   "metadata": {},
   "source": [
    "## Name and student number\n",
    "\n",
    "..."
   ]
  },
  {
   "attachments": {},
   "cell_type": "markdown",
   "metadata": {},
   "source": [
    "## Part 1: non-coding questions\n",
    "\n",
    "### Question 1-1\n",
    "\n",
    "In her book \"Foundations of Information\", Amy Ko discusses an important aspect of her private life and the way this affects her relationship with information. Identify this aspect, discuss the way it affects her perspective on information and illustrate with two quotes from the book."
   ]
  },
  {
   "cell_type": "markdown",
   "metadata": {},
   "source": [
    "### Answer 1-1\n",
    "\n",
    "..."
   ]
  },
  {
   "attachments": {},
   "cell_type": "markdown",
   "metadata": {},
   "source": [
    "### Question 1-2\n",
    "\n",
    "Have a look at this website: [https://www.getty.edu/research/tools/vocabularies/aat](https://www.getty.edu/research/tools/vocabularies/aat).\n",
    "\n",
    "How can this source be helpful for a project that aims to make a collection database and website for an agricultural museum?"
   ]
  },
  {
   "cell_type": "markdown",
   "metadata": {},
   "source": [
    "### Answer 1-2\n",
    "\n",
    "..."
   ]
  },
  {
   "cell_type": "markdown",
   "metadata": {},
   "source": [
    "### Question 1-3\n",
    "\n",
    "Describe a real-world example of a situation where you should use Unicode normalization. "
   ]
  },
  {
   "cell_type": "markdown",
   "metadata": {},
   "source": [
    "### Answer 1-3\n",
    "\n",
    "..."
   ]
  },
  {
   "cell_type": "markdown",
   "metadata": {},
   "source": [
    "## Part 2: coding questions\n",
    "\n",
    "### Question 2-1\n",
    "\n",
    "Write a function that takes this set of cell phone numbers and records them in a bitmap index (using the variable `bitmap_index`).\n",
    "\n",
    "Write a second function that accepts a phone number and the index as argument and returns whether it is present or not in the index (`true` or `false`).\n",
    "\n",
    "Use the supplied function signatures. As you can see, it is up to you to decide the type of the bitmap index. The code in comments includes a test you can use. Please leave it in the code."
   ]
  },
  {
   "cell_type": "markdown",
   "metadata": {},
   "source": [
    "### Answer 2-1 \n",
    "\n",
    "(model answer: 15 lines of code)"
   ]
  },
  {
   "cell_type": "code",
   "execution_count": null,
   "metadata": {},
   "outputs": [],
   "source": [
    "from typing import Any\n",
    "\n",
    "PHONE_NUMBERS = {4467890, 4901235, 4223430, 4101020, 4150671, 4485450, 4600825,\n",
    "                 4461890, 4991245, 4213438, 4111020, 4152671, 4785750, 4960182}\n",
    "\n",
    "def make_bitmap_index(phone_numbers: set) -> Any:\n",
    "    ...\n",
    "\n",
    "def check_bitmap_index(phone_number: int, bitmap_index: Any) -> bool:\n",
    "    ...\n",
    "\n",
    "# print(\"this should be true\", check_bitmap_index(4467890, bitmap_index))\n",
    "# print(\"this should be false\", check_bitmap_index(4010203, bitmap_index)"
   ]
  },
  {
   "attachments": {},
   "cell_type": "markdown",
   "metadata": {},
   "source": [
    "### Question 2-2\n",
    "\n",
    "#### Background information\n",
    "\n",
    "IIIF (in full \"International Image Interoperability Framework\") is a collection of JSON-based web APIs by which providers (such as libraries, musea, collections) make images available for the outside world.\n",
    "\n",
    "The IIIF Presentation API offers all metadata about a IIIF resource (a book, a painting, a piece of art, ...) as a \"manifest\" file (JSON), e.g.:\n",
    "\n",
    "[https://anet.be/iiif/7775db2cb90285e316498d2818862b8389a068ca/manifest](https://anet.be/iiif/7775db2cb90285e316498d2818862b8389a068ca/manifest)\n",
    "\n",
    "With that manifest IIIF viewers can display the resource, like so:\n",
    "\n",
    "[https://anet.be/brocade/imageviewer/universalviewer/uv.html#?manifest=/iiif/7775db2cb90285e316498d2818862b8389a068ca/manifest&config=/iiif/viewercfg.phtml%3Fcg=uauniversalviewer](https://anet.be/brocade/imageviewer/universalviewer/uv.html#?manifest=/iiif/7775db2cb90285e316498d2818862b8389a068ca/manifest&config=/iiif/viewercfg.phtml%3Fcg=uauniversalviewer)\n",
    "\n",
    "The IIIF Image API allows for transformations of specific images, e.g.:\n",
    "\n",
    "[https://anet.be/iiif/7775db2cb90285e316498d2818862b8389a068ca/canvas/00000001](https://anet.be/iiif/7775db2cb90285e316498d2818862b8389a068ca/canvas/00000001)\n",
    "\n",
    "like so (parameters `/{region}/{size}/{rotation}/{quality}.{format}`):\n",
    "\n",
    "[https://anet.be/iiif/7775db2cb90285e316498d2818862b8389a068ca/canvas/00000001/full/max/0/default.jpg](https://anet.be/iiif/7775db2cb90285e316498d2818862b8389a068ca/canvas/00000001/full/max/0/default.jpg)\n",
    "\n",
    "or \n",
    "\n",
    "[https://anet.be/iiif/7775db2cb90285e316498d2818862b8389a068ca/canvas/00000001/full/max/0/gray.tif](https://anet.be/iiif/7775db2cb90285e316498d2818862b8389a068ca/canvas/00000001/full/max/0/gray.tif)\n",
    "\n",
    "#### Question\n",
    "\n",
    "Write a function that takes this set of manifest identifiers, harvests their JSON manifest file and constructs a link to the first image, in gray, and in `.tif`. Put your result in a dictionary. See the expected output in the code."
   ]
  },
  {
   "cell_type": "markdown",
   "metadata": {},
   "source": [
    "### Answer 2-3\n",
    "\n",
    "(model answer: 30 lines of code)"
   ]
  },
  {
   "cell_type": "code",
   "execution_count": null,
   "metadata": {},
   "outputs": [],
   "source": [
    "MANIFEST_IDS = {\"7775db2cb90285e316498d2818862b8389a068ca\", \n",
    "                \"ff9a10521469941f251878b2a606e5d746a1d858\", \n",
    "                \"a348540a300c940bbccc6ae5d1d8d7d5fdabcf6f\"}\n",
    "\n",
    "def extract_IIIF_info(manifest_ids: set) -> dict:\n",
    "    ...\n",
    "\n",
    "EXPECTED_OUTPUT = {\n",
    "    '7775db2cb90285e316498d2818862b8389a068ca': 'https://anet.be/iiif/7775db2cb90285e316498d2818862b8389a068ca/canvas/00000001/full/max/0/gray.tif', \n",
    "    'a348540a300c940bbccc6ae5d1d8d7d5fdabcf6f': 'https://anet.be/iiif/a348540a300c940bbccc6ae5d1d8d7d5fdabcf6f/canvas/00000001/full/max/0/gray.tif', \n",
    "    'ff9a10521469941f251878b2a606e5d746a1d858': 'https://anet.be/iiif/ff9a10521469941f251878b2a606e5d746a1d858/canvas/00000001/full/max/0/gray.tif'\n",
    "    }"
   ]
  },
  {
   "cell_type": "markdown",
   "metadata": {},
   "source": [
    "### Question 2-3\n",
    "\n",
    "Take this piece of EAD-XML and turn the element `<archdesc><did>...</did></archdesc>` into ISAD-G JSON (see [https://www.loc.gov/ead/tglib/appendix_a.html#a2](https://www.loc.gov/ead/tglib/appendix_a.html#a2). If an EAD element is not present in the conversion table, you can just skip it. In fact, you already get the complete conversion table for free:\n"
   ]
  },
  {
   "cell_type": "markdown",
   "metadata": {},
   "source": [
    "### Answer 2-3\n",
    "\n",
    "(model answer: 25 lines of code, XML and conversion table *not* included)"
   ]
  },
  {
   "cell_type": "code",
   "execution_count": null,
   "metadata": {},
   "outputs": [],
   "source": [
    "EAD_XML = b'''\n",
    "<OAI-PMH>\n",
    "  <responseDate>2022-12-22T14:45:50.999999Z</responseDate>\n",
    "  <request metadataPrefix=\"ead\" set=\"ulst:tdeneire:test\" verb=\"ListRecords\">https://dev.anet.be/oai/ead/</request>\n",
    "  <ListRecords>\n",
    "    <record>\n",
    "      <header>\n",
    "        <identifier>isad:lh:85946</identifier>\n",
    "        <datestamp>2022-11-18T07:08:12.999990Z</datestamp>\n",
    "      </header>\n",
    "      <metadata>\n",
    "        <ead xmlns=\"http://www.loc.gov/ead\" xmlns:xsi=\"http://www.w3.org/2001/XMLSchema-instance\" xsi:schemaLocation=\"http://www.loc.gov/ead/ead.xsd\">\n",
    "          <eadheader audience=\"internal\" countryencoding=\"iso3166-1\" dateencoding=\"iso8601\" langencoding=\"iso639-2b\" scriptencoding=\"iso15924\">\n",
    "            <eadid countrycode=\"BE\" identifier=\"isad:lh:85946\" mainagencycode=\"ANN07\" url=\"/isadtree/letterenhuis/opaclhisad/isad:lh:85946/N\">BE-ANN07/lh/C2756/1</eadid>\n",
    "            <filedesc></filedesc>\n",
    "          </eadheader>\n",
    "          <archdesc level=\"fonds\">\n",
    "            <did>\n",
    "              <unitid label=\"Archief\">BE-ANN07/lh/C2756/1</unitid>\n",
    "              <unittitle>Archief van Hugo Claus</unittitle>\n",
    "              <unitdate>1937-[2010]</unitdate>\n",
    "              <extent label=\"K1 C 3 B6\">1,40 m [1 map]</extent>\n",
    "              <extent label=\"V3 C\">8 m</extent>\n",
    "              <extent label=\"K1 A 14 C2\">1 verhuisdoos eretekens + foto's groot formaat</extent>\n",
    "              <extent label=\"K1 A 12 E5-K1 A 12 F4\">36 archiefdozen</extent>\n",
    "              <physloc label=\"K1 C 3 B6\"></physloc>\n",
    "              <physloc label=\"V3 C\">C 2756 / H</physloc>\n",
    "              <physloc label=\"K1 A 14 C2\"></physloc>\n",
    "              <physloc label=\"K1 A 12 E5-K1 A 12 F4\"></physloc>\n",
    "              <origination altrender=\"/record/isaarlh/au::3953\" authfilenumber=\"au::3953\" normal=\"Hugo Claus\" source=\"lh\">Hugo Claus</origination>\n",
    "            </did>\n",
    "            <bioghist>[Hugo Claus](/record/isaarlh/au::3953)</bioghist>\n",
    "            <accessrestrict>Het archief is toegankelijk mits toelating van de directie/conservator Het archief is ter inzage mits toelating van de erven</accessrestrict>\n",
    "          </archdesc>\n",
    "        </ead>\n",
    "      </metadata>\n",
    "    </record>\n",
    "  </ListRecords>\n",
    "</OAI-PMH>\n",
    "'''\n",
    "\n",
    "CONVERSION_TABLE = {\n",
    "    \"accessrestrict\": \"4.4.1 Conditions governing access\",\n",
    "    \"accruals\": \"4.3.3 Accruals\",\n",
    "    \"acqinfo\": \"4.2.4 Immediate source of acquisition\",\n",
    "    \"altformavail\": \"4.5.2 Existence and location of copies\",\n",
    "    \"appraisal\": \"4.3.2 Appraisal, destruction and scheduling\",\n",
    "    \"archdesc\": \" level attribute4.1.4 Level of description\",\n",
    "    \"arrangement\": \"4.3.4 System of arrangement\",\n",
    "    \"bibliography\": \"4.5.4 Publication note\",\n",
    "    \"bioghist\": \"4.2.2 Administrative/Biographical history\",\n",
    "    \"c\": \"4.1.4 Level of description\",\n",
    "    \"custodhist\": \"4.2.3 Archival history\",\n",
    "    \"descrules\": \"4.7.2 Rules or conventions\",\n",
    "    \"eadid\": \"4.1.1 Reference code(s)\",\n",
    "    \"language\": \"4.4.3 Language/scripts of material\",\n",
    "    \"langmaterial\": \"4.4.3 Language/scripts of material\",\n",
    "    \"legalstatus\": \"4.4.1 Conditions governing access\",\n",
    "    \"note\": \"4.6.1 Note\",\n",
    "    \"odd\": \"4.6.1 Note\",\n",
    "    \"originalsloc\": \"4.5.1 Existence and location of originals\",\n",
    "    \"origination\": \"4.2.1 Name of creator\",\n",
    "    \"otherfindaid\": \"4.4.5 Finding aids\",\n",
    "    \"physfacet\": \"4.1.5 Extent and medium of the unit\",\n",
    "    \"genreform\": \"4.1.5 Extent and medium of the unit\",\n",
    "    \"dimensions\": \"4.1.5 Extent and medium of the unit\",\n",
    "    \"extent\": \"4.1.5 Extent and medium of the unit\",\n",
    "    \"physdesc\": \"4.1.5 Extent and medium of the unit\",\n",
    "    \"phystech\": \"4.4.4 Physical characteristics and technical requirements\",\n",
    "    \"processinfo\": \"4.7.1 Archivist's note\",\n",
    "    \"relatedmaterial\": \"4.5.3 Related units of description\",\n",
    "    \"scopecontent\": \"4.3.1 Scope and content\",\n",
    "    \"separatedmaterial\": \"4.5.3 Related units of description\",\n",
    "    \"unitdate\": \"4.1.3 Dates\",\n",
    "    \"unitid\": \"4.1.1 Reference code(s)\",\n",
    "    \"unittitle\": \"4.1.2 Title\",\n",
    "    \"userestrict\": \"3.4.2 Conditions governing reproduction\",\n",
    "}\n",
    "\n",
    "def convert_ead_xml_to_isad_json(ead_xml: bytes) -> str:\n",
    "    ...\n",
    "\n",
    "EXPECTED_RESULT = \"\"\"\n",
    "{\n",
    "    \"4.1.1 Reference code(s)\": [\n",
    "        {\n",
    "            \"label\": \"Archief\",\n",
    "            \"text\": \"BE-ANN07/lh/C2756/1\"\n",
    "        }\n",
    "    ],\n",
    "    \"4.1.2 Title\": [\n",
    "        {\n",
    "            \"text\": \"Archief van Hugo Claus\"\n",
    "        }\n",
    "    ],\n",
    "    \"4.1.3 Dates\": [\n",
    "        {\n",
    "            \"text\": \"1937\\u2013[2010]\"\n",
    "        }\n",
    "    ],\n",
    "    \"4.1.5 Extent and medium of the unit\": [\n",
    "        {\n",
    "            \"label\": \"K1 C 3 B6\",\n",
    "            \"text\": \"1,40 m [1 map]\"\n",
    "        },\n",
    "        {\n",
    "            \"label\": \"V3 C\",\n",
    "            \"text\": \"8 m\"\n",
    "        },\n",
    "        {\n",
    "            \"label\": \"K1 A 14 C2\",\n",
    "            \"text\": \"1 verhuisdoos eretekens + foto's groot formaat\"\n",
    "        },\n",
    "        {\n",
    "            \"label\": \"K1 A 12 E5\\u2013K1 A 12 F4\",\n",
    "            \"text\": \"36 archiefdozen\"\n",
    "        }\n",
    "    ],\n",
    "    \"4.2.1 Name of creator\": [\n",
    "        {\n",
    "            \"altrender\": \"/record/isaarlh/au::3953\",\n",
    "            \"authfilenumber\": \"au::3953\",\n",
    "            \"normal\": \"Hugo Claus\",\n",
    "            \"source\": \"lh\",\n",
    "            \"text\": \"Hugo Claus\"\n",
    "        }\n",
    "    ]\n",
    "}\n",
    "\"\"\""
   ]
  }
 ],
 "metadata": {
  "kernelspec": {
   "display_name": "Python 3 (ipykernel)",
   "language": "python",
   "name": "python3"
  },
  "language_info": {
   "codemirror_mode": {
    "name": "ipython",
    "version": 3
   },
   "file_extension": ".py",
   "mimetype": "text/x-python",
   "name": "python",
   "nbconvert_exporter": "python",
   "pygments_lexer": "ipython3",
   "version": "3.10.6 (main, Nov 14 2022, 16:10:14) [GCC 11.3.0]"
  },
  "vscode": {
   "interpreter": {
    "hash": "31f2aee4e71d21fbe5cf8b01ff0e069b9275f58929596ceb00d14d90e3e16cd6"
   }
  }
 },
 "nbformat": 4,
 "nbformat_minor": 2
}
